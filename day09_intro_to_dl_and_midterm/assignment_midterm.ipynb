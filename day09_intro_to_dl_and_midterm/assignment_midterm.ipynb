{
 "cells": [
  {
   "cell_type": "markdown",
   "metadata": {
    "nbgrader": {
     "grade": false,
     "grade_id": "cell-86e0de040aac317a",
     "locked": true,
     "schema_version": 2,
     "solution": false
    }
   },
   "source": [
    "## Midterm test and practice session"
   ]
  },
  {
   "cell_type": "markdown",
   "metadata": {},
   "source": [
    "### 1. Questions.\n",
    "Please, answer the following questions briefly. Two or three sentences with main idea would be enough.\n",
    "\n",
    "Do not use external resourses in this part, please. Answer with you own words. If you forgot something, don't worry, we will discuss it later."
   ]
  },
  {
   "cell_type": "markdown",
   "metadata": {},
   "source": [
    "#### 1.0. \n",
    "Please, formulate the supervised learning problem statement.\n",
    "\n",
    "_Your answer here_\n",
    "\n",
    "Let's denote:\n",
    "\n",
    "- Training set $\\{(x^{(i)}, y^{(i)})\\}_{i=1}^{n}$ ,where\n",
    "  - $x^{(i)} \\in \\mathbb{R}^p, y^{(i)} \\in \\mathbb{R}$ for regression\n",
    "  - $x^{(i)} \\in \\mathbb{R}^p, y^{(i)} \\in \\{C_1, \\ldots, C_K\\}$ for classification\n",
    "\n",
    "- Model $f(x)$ predicts some value for every object\n",
    "- Loss function $L(x, y, f)$ that should be minimized\n"
   ]
  },
  {
   "cell_type": "markdown",
   "metadata": {},
   "source": [
    "#### 1.1.\n",
    "\n",
    "What are regression and classification problems. What’s the difference?\n",
    "\n",
    "_Your answer here_\n",
    "\n",
    "Regression problem is a type of supervised learning problem where the output is a real number. Classification problem is a type of supervised learning problem where the output is a class label. So the only difference is the type of output."
   ]
  },
  {
   "cell_type": "markdown",
   "metadata": {},
   "source": [
    "#### 1.2.\n",
    "Write down the linear model for regression problem in matrix notation. What is Mean Squared Error (MSE) loss function? How can it be expressed?\n",
    "\n",
    "_Your answer here_\n",
    "\n",
    "$$\n",
    "\\hat{y} = \\mathbf{x}^T \\mathbf{w}\n",
    "$$\n",
    "\n",
    "where $x \\in \\mathbb{R}^p, y^{(i)} \\in \\mathbb{R}$, $\\mathbf{w} = [w_0; w_1; \\ldots; w_p]$ is a vector of weights.\n",
    "\n",
    "The Mean Squared Error (MSE) loss function is defined as:\n",
    "\n",
    "$$\n",
    "L(x, y, f) = \\frac{1}{n} \\sum_{i=1}^{n} (y^{(i)} - f(x^{(i)}))^2\n",
    "$$\n",
    "\n",
    "It is the average of squared differences between the predicted and true values."
   ]
  },
  {
   "cell_type": "markdown",
   "metadata": {},
   "source": [
    "#### 1.3.\n",
    "What is the gradient of a function? How is it being used in optimization?\n",
    "\n",
    "_Your answer here_\n",
    "\n",
    "The gradient of a function is a vector of its partial derivatives. It points in the direction of the greatest rate of increase of the function. In optimization, the gradient is used to find the minimum of the function. The idea is to move in the opposite direction of the gradient to reach the minimum."
   ]
  },
  {
   "cell_type": "markdown",
   "metadata": {},
   "source": [
    "#### 1.4.\n",
    "Write down gradient descent step for linear model and MSE for one-dimensional case.\n",
    "\n",
    "_Your answer here_"
   ]
  },
  {
   "cell_type": "markdown",
   "metadata": {},
   "source": [
    "#### 1.5.\n",
    "What is validation? Cross validation?\n",
    "\n",
    "_Your answer here_\n",
    "\n",
    "Validation is a technique used to evaluate the performance of a model. It is done on a separate dataset from the training set. Cross validation is a technique used to evaluate the performance of a model when the dataset is small. It is done by splitting the dataset into k parts and using each part as a validation set."
   ]
  },
  {
   "cell_type": "markdown",
   "metadata": {},
   "source": [
    "#### 1.6.\n",
    "What is regularization? How does L1 regularization differ from L2 for linear models?\n",
    "\n",
    "_Your answer here_"
   ]
  },
  {
   "cell_type": "markdown",
   "metadata": {},
   "source": [
    "#### 1.7.\n",
    "What are precision and recall metrics?\n",
    "\n",
    "_Your answer here_"
   ]
  },
  {
   "cell_type": "markdown",
   "metadata": {},
   "source": [
    "#### 1.8.\n",
    "What is bagging? What is the main idea beneath it?\n",
    "\n",
    "_Your answer here_"
   ]
  },
  {
   "cell_type": "markdown",
   "metadata": {},
   "source": [
    "#### 1.9.\n",
    "How Random Forest is different from simple bagging? \n",
    "\n",
    "_Your answer here_"
   ]
  },
  {
   "cell_type": "markdown",
   "metadata": {},
   "source": [
    "#### 1.10\n",
    "What is gradient boosting? Is it a good idea to use linear regression as a basic model (element of the ensemble) in gradient boosting? What about logistic regression? Why?\n",
    "\n",
    "_Your answer here_"
   ]
  },
  {
   "cell_type": "markdown",
   "metadata": {},
   "source": [
    "### 2. Optional discussion\n",
    "It is optional. We will contact you in private messages if needed."
   ]
  }
 ],
 "metadata": {
  "celltoolbar": "Create Assignment",
  "kernelspec": {
   "display_name": "Py3 research env",
   "language": "python",
   "name": "py3_research"
  },
  "language_info": {
   "codemirror_mode": {
    "name": "ipython",
    "version": 3
   },
   "file_extension": ".py",
   "mimetype": "text/x-python",
   "name": "python",
   "nbconvert_exporter": "python",
   "pygments_lexer": "ipython3",
   "version": "3.7.7"
  },
  "toc": {
   "base_numbering": 1,
   "nav_menu": {},
   "number_sections": false,
   "sideBar": true,
   "skip_h1_title": false,
   "title_cell": "Table of Contents",
   "title_sidebar": "Contents",
   "toc_cell": false,
   "toc_position": {},
   "toc_section_display": true,
   "toc_window_display": false
  }
 },
 "nbformat": 4,
 "nbformat_minor": 2
}
